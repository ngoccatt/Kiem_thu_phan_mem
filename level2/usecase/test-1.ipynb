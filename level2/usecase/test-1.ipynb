{
 "cells": [
  {
   "cell_type": "code",
   "execution_count": null,
   "metadata": {},
   "outputs": [],
   "source": [
    "filename = path = Path(__file__).parent / \"usecaseData_full.json\"\n",
    "\n",
    "def dataForTest():\n",
    "    dataTest = []\n",
    "    with open(filename, \"r\") as f:\n",
    "        data = json.load(f)\n",
    "    return dataTest\n"
   ]
  }
 ],
 "metadata": {
  "kernelspec": {
   "display_name": "base",
   "language": "python",
   "name": "python3"
  },
  "language_info": {
   "name": "python",
   "version": "3.12.4"
  }
 },
 "nbformat": 4,
 "nbformat_minor": 2
}
